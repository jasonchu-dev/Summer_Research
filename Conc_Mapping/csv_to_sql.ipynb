{
 "cells": [
  {
   "cell_type": "code",
   "execution_count": 97,
   "metadata": {},
   "outputs": [
    {
     "data": {
      "text/plain": [
       "['SQL Server',\n",
       " 'Microsoft Access Driver (*.mdb, *.accdb)',\n",
       " 'Microsoft Excel Driver (*.xls, *.xlsx, *.xlsm, *.xlsb)',\n",
       " 'Microsoft Access Text Driver (*.txt, *.csv)',\n",
       " 'SQL Server Native Client 11.0',\n",
       " 'SQL Server Native Client RDA 11.0',\n",
       " 'ODBC Driver 17 for SQL Server']"
      ]
     },
     "execution_count": 97,
     "metadata": {},
     "output_type": "execute_result"
    }
   ],
   "source": [
    "import pyodbc\n",
    "import pandas as pd\n",
    "\n",
    "pyodbc.drivers()"
   ]
  },
  {
   "cell_type": "code",
   "execution_count": 98,
   "metadata": {},
   "outputs": [],
   "source": [
    "conn = pyodbc.connect(\n",
    "    \"Driver={SQL Server Native Client 11.0};\"\n",
    "    \"Server=DESKTOP-DMHEOJV;\"\n",
    "    \"Database=Caltrans_Research;\"\n",
    "    \"Trusted_Connection=yes;\"\n",
    ")\n",
    "\n",
    "cursor = conn.cursor()"
   ]
  },
  {
   "cell_type": "code",
   "execution_count": 99,
   "metadata": {},
   "outputs": [
    {
     "data": {
      "text/html": [
       "<div>\n",
       "<style scoped>\n",
       "    .dataframe tbody tr th:only-of-type {\n",
       "        vertical-align: middle;\n",
       "    }\n",
       "\n",
       "    .dataframe tbody tr th {\n",
       "        vertical-align: top;\n",
       "    }\n",
       "\n",
       "    .dataframe thead th {\n",
       "        text-align: right;\n",
       "    }\n",
       "</style>\n",
       "<table border=\"1\" class=\"dataframe\">\n",
       "  <thead>\n",
       "    <tr style=\"text-align: right;\">\n",
       "      <th></th>\n",
       "      <th>Row</th>\n",
       "      <th>Col</th>\n",
       "      <th>Latitude</th>\n",
       "      <th>Longitude</th>\n",
       "      <th>Concentration</th>\n",
       "    </tr>\n",
       "  </thead>\n",
       "  <tbody>\n",
       "    <tr>\n",
       "      <th>0</th>\n",
       "      <td>A</td>\n",
       "      <td>3</td>\n",
       "      <td>33.965913</td>\n",
       "      <td>-117.348340</td>\n",
       "      <td>4642.000000</td>\n",
       "    </tr>\n",
       "    <tr>\n",
       "      <th>1</th>\n",
       "      <td>A</td>\n",
       "      <td>10</td>\n",
       "      <td>33.965898</td>\n",
       "      <td>-117.348240</td>\n",
       "      <td>2737.500000</td>\n",
       "    </tr>\n",
       "    <tr>\n",
       "      <th>2</th>\n",
       "      <td>A</td>\n",
       "      <td>20</td>\n",
       "      <td>33.965935</td>\n",
       "      <td>-117.348186</td>\n",
       "      <td>1759.000000</td>\n",
       "    </tr>\n",
       "    <tr>\n",
       "      <th>3</th>\n",
       "      <td>A</td>\n",
       "      <td>50</td>\n",
       "      <td>33.965893</td>\n",
       "      <td>-117.347847</td>\n",
       "      <td>594.000000</td>\n",
       "    </tr>\n",
       "    <tr>\n",
       "      <th>4</th>\n",
       "      <td>A</td>\n",
       "      <td>100</td>\n",
       "      <td>33.965906</td>\n",
       "      <td>-117.347289</td>\n",
       "      <td>188.500000</td>\n",
       "    </tr>\n",
       "    <tr>\n",
       "      <th>5</th>\n",
       "      <td>A</td>\n",
       "      <td>150</td>\n",
       "      <td>33.965917</td>\n",
       "      <td>-117.346767</td>\n",
       "      <td>110.000000</td>\n",
       "    </tr>\n",
       "    <tr>\n",
       "      <th>6</th>\n",
       "      <td>A</td>\n",
       "      <td>200</td>\n",
       "      <td>33.965896</td>\n",
       "      <td>-117.346220</td>\n",
       "      <td>86.000000</td>\n",
       "    </tr>\n",
       "    <tr>\n",
       "      <th>7</th>\n",
       "      <td>B</td>\n",
       "      <td>3</td>\n",
       "      <td>33.963506</td>\n",
       "      <td>-117.348342</td>\n",
       "      <td>4058.000000</td>\n",
       "    </tr>\n",
       "    <tr>\n",
       "      <th>8</th>\n",
       "      <td>B</td>\n",
       "      <td>10</td>\n",
       "      <td>33.963508</td>\n",
       "      <td>-117.348276</td>\n",
       "      <td>1433.333333</td>\n",
       "    </tr>\n",
       "    <tr>\n",
       "      <th>9</th>\n",
       "      <td>B</td>\n",
       "      <td>20</td>\n",
       "      <td>33.963538</td>\n",
       "      <td>-117.348185</td>\n",
       "      <td>1568.000000</td>\n",
       "    </tr>\n",
       "    <tr>\n",
       "      <th>10</th>\n",
       "      <td>B</td>\n",
       "      <td>50</td>\n",
       "      <td>33.963517</td>\n",
       "      <td>-117.347873</td>\n",
       "      <td>608.000000</td>\n",
       "    </tr>\n",
       "    <tr>\n",
       "      <th>11</th>\n",
       "      <td>B</td>\n",
       "      <td>100</td>\n",
       "      <td>33.963519</td>\n",
       "      <td>-117.347329</td>\n",
       "      <td>163.000000</td>\n",
       "    </tr>\n",
       "    <tr>\n",
       "      <th>12</th>\n",
       "      <td>B</td>\n",
       "      <td>150</td>\n",
       "      <td>33.963506</td>\n",
       "      <td>-117.346774</td>\n",
       "      <td>123.500000</td>\n",
       "    </tr>\n",
       "    <tr>\n",
       "      <th>13</th>\n",
       "      <td>B</td>\n",
       "      <td>200</td>\n",
       "      <td>33.963494</td>\n",
       "      <td>-117.346244</td>\n",
       "      <td>79.000000</td>\n",
       "    </tr>\n",
       "    <tr>\n",
       "      <th>14</th>\n",
       "      <td>C</td>\n",
       "      <td>3</td>\n",
       "      <td>33.962971</td>\n",
       "      <td>-117.348329</td>\n",
       "      <td>3690.500000</td>\n",
       "    </tr>\n",
       "    <tr>\n",
       "      <th>15</th>\n",
       "      <td>C</td>\n",
       "      <td>10</td>\n",
       "      <td>33.962993</td>\n",
       "      <td>-117.348326</td>\n",
       "      <td>2562.500000</td>\n",
       "    </tr>\n",
       "    <tr>\n",
       "      <th>16</th>\n",
       "      <td>C</td>\n",
       "      <td>20</td>\n",
       "      <td>33.962944</td>\n",
       "      <td>-117.348170</td>\n",
       "      <td>1151.500000</td>\n",
       "    </tr>\n",
       "    <tr>\n",
       "      <th>17</th>\n",
       "      <td>C</td>\n",
       "      <td>50</td>\n",
       "      <td>33.962912</td>\n",
       "      <td>-117.347811</td>\n",
       "      <td>470.000000</td>\n",
       "    </tr>\n",
       "    <tr>\n",
       "      <th>18</th>\n",
       "      <td>C</td>\n",
       "      <td>100</td>\n",
       "      <td>33.962901</td>\n",
       "      <td>-117.347302</td>\n",
       "      <td>307.000000</td>\n",
       "    </tr>\n",
       "    <tr>\n",
       "      <th>19</th>\n",
       "      <td>C</td>\n",
       "      <td>150</td>\n",
       "      <td>33.962941</td>\n",
       "      <td>-117.346758</td>\n",
       "      <td>117.000000</td>\n",
       "    </tr>\n",
       "    <tr>\n",
       "      <th>20</th>\n",
       "      <td>C</td>\n",
       "      <td>200</td>\n",
       "      <td>33.962917</td>\n",
       "      <td>-117.346265</td>\n",
       "      <td>92.500000</td>\n",
       "    </tr>\n",
       "  </tbody>\n",
       "</table>\n",
       "</div>"
      ],
      "text/plain": [
       "   Row  Col   Latitude   Longitude  Concentration\n",
       "0    A    3  33.965913 -117.348340    4642.000000\n",
       "1    A   10  33.965898 -117.348240    2737.500000\n",
       "2    A   20  33.965935 -117.348186    1759.000000\n",
       "3    A   50  33.965893 -117.347847     594.000000\n",
       "4    A  100  33.965906 -117.347289     188.500000\n",
       "5    A  150  33.965917 -117.346767     110.000000\n",
       "6    A  200  33.965896 -117.346220      86.000000\n",
       "7    B    3  33.963506 -117.348342    4058.000000\n",
       "8    B   10  33.963508 -117.348276    1433.333333\n",
       "9    B   20  33.963538 -117.348185    1568.000000\n",
       "10   B   50  33.963517 -117.347873     608.000000\n",
       "11   B  100  33.963519 -117.347329     163.000000\n",
       "12   B  150  33.963506 -117.346774     123.500000\n",
       "13   B  200  33.963494 -117.346244      79.000000\n",
       "14   C    3  33.962971 -117.348329    3690.500000\n",
       "15   C   10  33.962993 -117.348326    2562.500000\n",
       "16   C   20  33.962944 -117.348170    1151.500000\n",
       "17   C   50  33.962912 -117.347811     470.000000\n",
       "18   C  100  33.962901 -117.347302     307.000000\n",
       "19   C  150  33.962941 -117.346758     117.000000\n",
       "20   C  200  33.962917 -117.346265      92.500000"
      ]
     },
     "execution_count": 99,
     "metadata": {},
     "output_type": "execute_result"
    }
   ],
   "source": [
    "df = pd.read_csv('data.csv')\n",
    "df"
   ]
  },
  {
   "cell_type": "code",
   "execution_count": 100,
   "metadata": {},
   "outputs": [
    {
     "data": {
      "text/plain": [
       "Index(['Row', 'Col', 'Latitude', 'Longitude', 'Concentration'], dtype='object')"
      ]
     },
     "execution_count": 100,
     "metadata": {},
     "output_type": "execute_result"
    }
   ],
   "source": [
    "df.columns"
   ]
  },
  {
   "cell_type": "code",
   "execution_count": 101,
   "metadata": {},
   "outputs": [
    {
     "data": {
      "text/plain": [
       "<pyodbc.Cursor at 0x1cd742694b0>"
      ]
     },
     "execution_count": 101,
     "metadata": {},
     "output_type": "execute_result"
    }
   ],
   "source": [
    "cursor.execute(\"CREATE TABLE data (Row char(1), Col float, Latitude float, Longitude float, Concentration float)\")"
   ]
  },
  {
   "cell_type": "code",
   "execution_count": null,
   "metadata": {},
   "outputs": [],
   "source": [
    "for i in df.itertuples():\n",
    "    cursor.execute('''\n",
    "    INSERT INTO Caltrans_Research.dbo.data (Row, Col, Latitude, Longitude, Concentration) \n",
    "    VALUES(?, ?, ?, ?, ?)\n",
    "    ''',\n",
    "        i.Row,\n",
    "        i.Col,\n",
    "        i.Latitude,\n",
    "        i.Longitude,\n",
    "        i.Concentration\n",
    "    )\n",
    "\n",
    "conn.commit()"
   ]
  }
 ],
 "metadata": {
  "kernelspec": {
   "display_name": "Python 3.10.5 ('Caltrans_Research')",
   "language": "python",
   "name": "python3"
  },
  "language_info": {
   "codemirror_mode": {
    "name": "ipython",
    "version": 3
   },
   "file_extension": ".py",
   "mimetype": "text/x-python",
   "name": "python",
   "nbconvert_exporter": "python",
   "pygments_lexer": "ipython3",
   "version": "3.10.5"
  },
  "orig_nbformat": 4,
  "vscode": {
   "interpreter": {
    "hash": "e03d0a5e845974b2f12149805a6ef6a7f8918ec1e7f8df9320b18ccf024e51e3"
   }
  }
 },
 "nbformat": 4,
 "nbformat_minor": 2
}
