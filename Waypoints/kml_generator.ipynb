{
  "cells": [
    {
      "cell_type": "markdown",
      "metadata": {
        "colab_type": "text",
        "id": "view-in-github"
      },
      "source": [
        "<a href=\"https://colab.research.google.com/github/jasonchu-dev/CalTrans_Research/blob/master/Waypoints/kml_generator.ipynb\" target=\"_parent\"><img src=\"https://colab.research.google.com/assets/colab-badge.svg\" alt=\"Open In Colab\"/></a>"
      ]
    },
    {
      "cell_type": "code",
      "execution_count": 4,
      "metadata": {
        "colab": {
          "base_uri": "https://localhost:8080/"
        },
        "id": "ke4WqHu069bn",
        "outputId": "96c45b58-56de-4e0e-95cb-8ca20ba9ab92"
      },
      "outputs": [
        {
          "name": "stdout",
          "output_type": "stream",
          "text": [
            "Looking in indexes: https://pypi.org/simple, https://us-python.pkg.dev/colab-wheels/public/simple/\n",
            "Requirement already satisfied: simplekml in /usr/local/lib/python3.7/dist-packages (1.3.6)\n",
            "Drive already mounted at /content/drive; to attempt to forcibly remount, call drive.mount(\"/content/drive\", force_remount=True).\n"
          ]
        }
      ],
      "source": [
        "%pip install simplekml\n",
        "import simplekml\n",
        "from google.colab import drive\n",
        "drive.mount('/content/drive')"
      ]
    },
    {
      "cell_type": "code",
      "execution_count": 5,
      "metadata": {
        "colab": {
          "base_uri": "https://localhost:8080/"
        },
        "id": "tuLBIMIs7XgI",
        "outputId": "760b9001-9a78-4429-f1ce-95adaadc0c5a"
      },
      "outputs": [
        {
          "name": "stdout",
          "output_type": "stream",
          "text": [
            "/content/drive/Shareddrives/CalTrans Research Project/Data/Coordinates\n"
          ]
        }
      ],
      "source": [
        "import csv\n",
        "\n",
        "%cd '/content/drive/Shareddrives/CalTrans Research Project/Data/Coordinates'\n",
        "\n",
        "f = csv.reader(open('Waypoints.csv', 'r'))\n",
        "kml = simplekml.Kml()\n",
        "\n",
        "for i in f:\n",
        "  kml.newpoint(name = i[0], coords = [(i[3][:-2], i[1][:-2])])\n",
        "  \n",
        "kml.save('Waypoints.kml')"
      ]
    },
    {
      "cell_type": "code",
      "execution_count": null,
      "metadata": {
        "colab": {
          "base_uri": "https://localhost:8080/"
        },
        "id": "JmvJ4MAFOMJg",
        "outputId": "1321efe4-8afc-4cfe-ba62-b2d0d167eba1"
      },
      "outputs": [
        {
          "name": "stdout",
          "output_type": "stream",
          "text": [
            "/content/drive/Shareddrives/CalTrans Research Project/Data/Coordinates\n"
          ]
        }
      ],
      "source": [
        "from google.colab import auth\n",
        "auth.authenticate_user()\n",
        "\n",
        "import gspread\n",
        "from google.auth import default\n",
        "creds, _ = default()\n",
        "\n",
        "%cd '/content/drive/Shareddrives/CalTrans Research Project/Data/Coordinates'\n",
        "\n",
        "gc = gspread.authorize(creds)\n",
        "\n",
        "wks = gc.open('Waypoints').sheet1\n",
        "\n",
        "rows = wks.get_all_values()\n",
        "\n",
        "for i in rows:\n",
        "  kml.newpoint(name = i[0], coords = [(i[3], i[1])])\n",
        "\n",
        "kml.save('Waypoints.kml')"
      ]
    }
  ],
  "metadata": {
    "colab": {
      "collapsed_sections": [],
      "include_colab_link": true,
      "name": "kml_generator.ipynb",
      "provenance": []
    },
    "kernelspec": {
      "display_name": "Caltrans_Research",
      "language": "python",
      "name": "python3"
    },
    "language_info": {
      "name": "python",
      "version": "3.10.5 | packaged by conda-forge | (main, Jun 14 2022, 06:57:19) [MSC v.1929 64 bit (AMD64)]"
    },
    "vscode": {
      "interpreter": {
        "hash": "e03d0a5e845974b2f12149805a6ef6a7f8918ec1e7f8df9320b18ccf024e51e3"
      }
    }
  },
  "nbformat": 4,
  "nbformat_minor": 0
}
